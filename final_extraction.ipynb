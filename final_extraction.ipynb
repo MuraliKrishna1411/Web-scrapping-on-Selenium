{
 "cells": [
  {
   "cell_type": "code",
   "execution_count": null,
   "metadata": {},
   "outputs": [],
   "source": [
    "from Cardekho import Cardekho\n",
    "\n",
    "obj = Cardekho()\n",
    "obj.Used_car()\n",
    "obj.Scroll(31)\n",
    "obj.extract_data()\n",
    "# obj.car_title()\n",
    "# obj.kms_fuel_mode()\n",
    "# obj.Price()\n",
    "obj.data_frame()"
   ]
  },
  {
   "cell_type": "code",
   "execution_count": null,
   "metadata": {},
   "outputs": [],
   "source": [
    "import pandas as pd\n",
    "data =pd.read_csv(\"Cardekho_data.csv\")\n",
    "data"
   ]
  },
  {
   "cell_type": "code",
   "execution_count": null,
   "metadata": {},
   "outputs": [],
   "source": [
    "import seaborn as sns"
   ]
  },
  {
   "cell_type": "code",
   "execution_count": null,
   "metadata": {},
   "outputs": [],
   "source": [
    "data.Manufactured_Year = pd.to_datetime(data[\"Manufactured_Year\"],format=\"%Y\")\n",
    "data[\"Year\"]= data['Manufactured_Year'].dt.year\n",
    "data"
   ]
  },
  {
   "cell_type": "code",
   "execution_count": null,
   "metadata": {},
   "outputs": [],
   "source": [
    "data.groupby(  )"
   ]
  },
  {
   "cell_type": "code",
   "execution_count": null,
   "metadata": {},
   "outputs": [],
   "source": [
    "data.info()"
   ]
  },
  {
   "cell_type": "code",
   "execution_count": null,
   "metadata": {},
   "outputs": [],
   "source": [
    "sns.barplot(data=data,x=\"Year\",y=\"Vehicle_Fuel_type\")"
   ]
  },
  {
   "cell_type": "code",
   "execution_count": null,
   "metadata": {},
   "outputs": [],
   "source": [
    "1+1"
   ]
  },
  {
   "cell_type": "code",
   "execution_count": null,
   "metadata": {},
   "outputs": [],
   "source": []
  }
 ],
 "metadata": {
  "kernelspec": {
   "display_name": "Python 3",
   "language": "python",
   "name": "python3"
  },
  "language_info": {
   "codemirror_mode": {
    "name": "ipython",
    "version": 3
   },
   "file_extension": ".py",
   "mimetype": "text/x-python",
   "name": "python",
   "nbconvert_exporter": "python",
   "pygments_lexer": "ipython3",
   "version": "3.11.1"
  },
  "orig_nbformat": 4,
  "vscode": {
   "interpreter": {
    "hash": "536ef285ecb341acf604f36e734aa11d0749078d9b57e5768e5c45e779e66be1"
   }
  }
 },
 "nbformat": 4,
 "nbformat_minor": 2
}
