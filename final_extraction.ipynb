{
 "cells": [
  {
   "cell_type": "code",
   "execution_count": null,
   "metadata": {},
   "outputs": [],
   "source": [
    "# %pip install selenium==3.141.0\n",
    "# %pip install beautifulsoup4\n",
    "# %pip install pandas\n",
    "# %pip install requests\n",
    "# %pip install lxml"
   ]
  },
  {
   "cell_type": "code",
   "execution_count": null,
   "metadata": {},
   "outputs": [],
   "source": [
    "from Cardekho import Cardekho\n",
    "\n",
    "obj = Cardekho()\n",
    "obj.Used_car()\n",
    "obj.Scroll(30)\n",
    "obj.extract_data()\n",
    "# obj.car_title()\n",
    "# obj.kms_fuel_mode()\n",
    "# obj.Price()\n",
    "obj.data_frame()"
   ]
  }
 ],
 "metadata": {
  "kernelspec": {
   "display_name": "Python 3",
   "language": "python",
   "name": "python3"
  },
  "language_info": {
   "codemirror_mode": {
    "name": "ipython",
    "version": 3
   },
   "file_extension": ".py",
   "mimetype": "text/x-python",
   "name": "python",
   "nbconvert_exporter": "python",
   "pygments_lexer": "ipython3",
   "version": "3.11.1 (tags/v3.11.1:a7a450f, Dec  6 2022, 19:58:39) [MSC v.1934 64 bit (AMD64)]"
  },
  "orig_nbformat": 4,
  "vscode": {
   "interpreter": {
    "hash": "536ef285ecb341acf604f36e734aa11d0749078d9b57e5768e5c45e779e66be1"
   }
  }
 },
 "nbformat": 4,
 "nbformat_minor": 2
}
